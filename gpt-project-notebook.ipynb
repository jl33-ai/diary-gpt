{
 "cells": [
  {
   "cell_type": "markdown",
   "id": "6c08ea45",
   "metadata": {},
   "source": [
    "# Background \n",
    "\n",
    "Inspired by: \n",
    "- [Andrej Karpathy](https://youtu.be/kCc8FmEb1nY) Fully his code, his ideas, his content \n",
    "- https://arxiv.org/abs/1706.03762\n",
    "- https://github.com/karpathy/nanoGPT\n",
    "\n",
    "\n",
    "\n",
    "> Instead of training on a slice of the internet (\\~30 trillion words), training on my notes (\\~1 million words)\n",
    "> Production-grade system\n",
    "> A lot of pre-training and fine-tuning stages \n",
    "\n",
    "*Aim: train transformer based language model, character based*\n",
    "*Bolster understanding of ChatGPT 'under the hood'*\n",
    "*Revise data science fundamentals*"
   ]
  },
  {
   "cell_type": "markdown",
   "id": "2e233355-3139-4ce7-b880-7d02d9dea6fe",
   "metadata": {
    "tags": []
   },
   "source": [
    "# Motivation\n",
    "\n",
    "As data scientists, we often encounter structured datasets, orderly and predictable in nature. But human experiences, emotions, and memories aren't always so neatly organized. My dataset, a digital diary of my memories and thoughts, exemplifies this. It's a unique mosaic of memory hoarding OCD, inflected with spiritual and religious nuances. What began as a conventional diary, recounting daily events, evolved into a complex tapestry of fragmented words and phrases. These entries sometimes hold immense personal significance, while at other times, they're just fleeting snapshots of my psyche.\n",
    "\n",
    "This dataset is erratic and disjointed. It's a chronicle of thoughts that range from the tangible to the abstract, from coherent narratives to mere representations of bright flashes of ideas. Over time, the nature of my notes has changed, with earlier entries offering clear recounts and later ones becoming increasingly abstract. Amidst this chaos, there are unexpected gems - raw emotions, the euphoria of meeting my girlfriend, or even mundane details like Instagram URLs and gift ideas.\n",
    "\n",
    "The challenge and motivation behind training an LLM on this dataset is multifaceted:\n",
    "\n",
    "1. **Understanding the Abstract**: Can the model decode the complexity and transform the intangible into something more tangible? Can it make sense of a dataset that is, by its very nature, non-sensical?\n",
    "2. **Mapping the Mental Landscape**: This dataset provides an opportunity to explore the architecture of my mind. It's a chance to visualize the evolution of my thoughts, even if they manifest randomly.\n",
    "3. **Clearing the Cache**: Just as a computer's performance can degrade when the CPU is constantly at 100%, the incessant flow of thoughts can be overwhelming. By processing this data, I aim to metaphorically clear the cache, offering a fresh perspective on old memories and perhaps, in the process, alleviate the persistent feeling of forgetfulness.\n",
    "\n",
    "In essence, this project isn't just an exploration of data but a deep dive into the human psyche. Through the lens of data science and machine learning, I hope to gain insights into the intricate web of thoughts and memories that constitute my identity."
   ]
  },
  {
   "cell_type": "code",
   "execution_count": 131,
   "id": "4b50cac0-1e38-415f-bdc2-a8d7a0161a5f",
   "metadata": {
    "tags": []
   },
   "outputs": [
    {
     "name": "stdout",
     "output_type": "stream",
     "text": [
      "Input a new thought / memory:  quit\n"
     ]
    }
   ],
   "source": [
    "class MemoryHoardingOCD:\n",
    "    # But WHAT IS memory hoarding OCD? A Pythonic representation:\n",
    "    \"\"\"\n",
    "    This class represents Memory Hoarding OCD, a subset of Obsessive-Compulsive Disorder (OCD)\n",
    "    where individuals excessively collect or \"hoard\" memories, often out of a fear of losing \n",
    "    or forgetting important information.\n",
    "    \"\"\"\n",
    "\n",
    "    def __init__(self):\n",
    "        # The bank to store hoarded memories\n",
    "        self.memory_bank = []\n",
    "\n",
    "        # The fear associated with losing or forgetting memories\n",
    "        self.fear = \"losing or forgetting\"\n",
    "\n",
    "        # A strong need for control over their thoughts\n",
    "        self.need_for_control = True\n",
    "\n",
    "    def hoard_memory(self, memory):\n",
    "        \"\"\"\n",
    "        This function represents the process of collecting and storing memories in \n",
    "        an attempt to keep track of every detail, reflecting the hoarding characteristic \n",
    "        of the disorder.\n",
    "        \"\"\"\n",
    "        self.memory_bank.append(memory)\n",
    "        self.review_memory()\n",
    "\n",
    "    def review_memory(self):\n",
    "        \"\"\"\n",
    "        Individuals with Memory Hoarding OCD continuously review their memories, \n",
    "        leading to significant distress. This function represents that review process.\n",
    "        \"\"\"\n",
    "        for memory in self.memory_bank:\n",
    "            print(f\"Rehearsing: {memory} ...\")\n",
    "        \n",
    "        # The distress brought by constant reviewing\n",
    "        if len(self.memory_bank) > 10:\n",
    "            print(\"Distress intensifying. Too many memories to manage...\")\n",
    "\n",
    "    def avoid_new_memory(self, situation):\n",
    "        \"\"\"\n",
    "        This function represents the avoidance behaviour, which is a common characteristic of OCD. \n",
    "        Individuals with Memory Hoarding OCD might avoid situations that might generate new, \n",
    "        difficult-to-manage memories.\n",
    "        \"\"\"\n",
    "        print(f\"Avoiding {situation} to not generate new, difficult-to-manage memories.\")\n",
    "\n",
    "# Instance of the MemoryHoardingOCD class\n",
    "memory_HOCD = MemoryHoardingOCD()\n",
    "\n",
    "# An unlimited loop for adding new memories until user enters 'quit'\n",
    "while True:\n",
    "    memory = input(\"Input a new thought / memory: \")\n",
    "    if memory == \"quit\":\n",
    "        break\n",
    "    memory_HOCD.hoard_memory(memory)\n",
    "    memory_HOCD.avoid_new_memory(\"situations\")\n"
   ]
  },
  {
   "cell_type": "markdown",
   "id": "dfe927ea-b0a2-4bb0-abe5-8e4e1122eef8",
   "metadata": {},
   "source": [
    "Given a chunk of characters, some context, the transformer (neural network) will digest the characters, and try to predict the next ones. \n",
    "\n",
    "Will model how these characters (thoughts) follow each other \n",
    "\n",
    "If I can't predict the trends... What are the tokens of thoughts. Could be introspective  \n",
    "\n",
    "Ideally, once trained, we can generate $\\infty$ thoughts in writing, so that I don't need to? Many Questions\n",
    "\n",
    "---\n",
    "\n",
    "# Dataset"
   ]
  },
  {
   "cell_type": "code",
   "execution_count": 132,
   "id": "72801439-f4c0-43a9-939a-9809c8317d93",
   "metadata": {
    "tags": []
   },
   "outputs": [
    {
     "data": {
      "text/plain": [
       "\"Since my notes are written everywhere... compulsively\\nMust 'crawl': Instagram DM's, Reminders, Notes, Handwritten\""
      ]
     },
     "execution_count": 132,
     "metadata": {},
     "output_type": "execute_result"
    }
   ],
   "source": [
    "# THE DATASET [collapsed]\n",
    "'''Since my notes are written everywhere... compulsively\n",
    "Must 'crawl': Instagram DM's, Reminders, Notes, Handwritten'''"
   ]
  },
  {
   "cell_type": "code",
   "execution_count": 133,
   "id": "ce601b84-aca4-41be-9498-ed761e2fd669",
   "metadata": {
    "tags": []
   },
   "outputs": [],
   "source": [
    " with open('all_thoughts.txt', 'r', encoding='utf-8') as f:\n",
    "        text = f.read()\n",
    "        \n",
    "# Not mandatory, just defining my signature horizontal line divider\n",
    "line_div = \"+>=====================================<+\""
   ]
  },
  {
   "cell_type": "code",
   "execution_count": 134,
   "id": "123d1f37-6ca3-48b6-bd42-7cc1f1496bcb",
   "metadata": {
    "tags": []
   },
   "outputs": [
    {
     "name": "stdout",
     "output_type": "stream",
     "text": [
      "Length of dataset in characters:  419153\n"
     ]
    }
   ],
   "source": [
    "print(\"Length of dataset in characters: \", len(text))"
   ]
  },
  {
   "cell_type": "code",
   "execution_count": 135,
   "id": "6b021d88-2b09-4bc9-a35d-8aeee940475e",
   "metadata": {
    "tags": []
   },
   "outputs": [
    {
     "name": "stdout",
     "output_type": "stream",
     "text": [
      "get to learn and be thorough\n",
      "Try Grow. anddddddddddd mew. \n",
      "the dream about uhhhhh: so many dreams \n",
      "o\n"
     ]
    }
   ],
   "source": [
    "# Let's see the first 1000 characters\n",
    "print(text[:100])"
   ]
  },
  {
   "cell_type": "code",
   "execution_count": 136,
   "id": "4985a918-947a-4e72-8415-4b705dbf9a7c",
   "metadata": {
    "tags": []
   },
   "outputs": [
    {
     "name": "stdout",
     "output_type": "stream",
     "text": [
      "\t\n",
      " !#$%&'()*+,-./0123456789:;<=>?@ABCDEFGHIJKLMNOPQRSTUVWXYZ[\\]^_abcdefghijklmnopqrstuvwxyz{|}~ ¥é‍—‘’“”… \n",
      "⁃€⏰━♂〰윤임찬️🐚👂👍👏💃🔒😁😔🥳🧎🪟🫀🫁\n",
      "129\n"
     ]
    }
   ],
   "source": [
    "# All the unique characters that occur in this text \n",
    "chars = sorted(list(set(text))) # Arbitrary sorting\n",
    "vocab_size = len(chars) # Possible element of sequences \n",
    "print(''.join(chars))\n",
    "print(vocab_size)"
   ]
  },
  {
   "cell_type": "markdown",
   "id": "7fbb7d48-547b-4a11-9e25-c289926635b9",
   "metadata": {
    "tags": []
   },
   "source": [
    "---\n",
    "\n",
    "# Tokenisation\n",
    "> Tokenisation: convert the raw string text, to some sequence of integers according to some vocabulary of possible elements. \n",
    "- Since this is character-level, each character will be represented by some integer# Develop tokenisation strategy"
   ]
  },
  {
   "cell_type": "code",
   "execution_count": 137,
   "id": "c802d2b0-1e58-4bde-92a2-23c2862e15aa",
   "metadata": {
    "tags": []
   },
   "outputs": [
    {
     "name": "stdout",
     "output_type": "stream",
     "text": [
      "[46, 69, 77, 79, 82, 89, 2, 41, 79, 65, 82, 68, 73, 78, 71, 2, 48, 36, 37]\n",
      "Memory Hoarding OCD\n"
     ]
    }
   ],
   "source": [
    "# Create mapping from characters to integers\n",
    "stoi = { ch:i for i, ch in enumerate(chars)}\n",
    "itos = { i:ch for i, ch in enumerate(chars)}\n",
    "\n",
    "# Encode/Decode\n",
    "encode = lambda s: [stoi[c] for c in s] # String -> List of Integers\n",
    "decode = lambda l: ''.join([itos[i] for i in l]) # List of Integers -> String\n",
    "\n",
    "print(encode(\"Memory Hoarding OCD\"))\n",
    "print(decode(encode(\"Memory Hoarding OCD\")))"
   ]
  },
  {
   "cell_type": "markdown",
   "id": "89da6696-03c3-461f-8100-236004a39f85",
   "metadata": {},
   "source": [
    "---\n",
    "\n",
    "*Like a translation from string to integers, one a character level\n",
    "This is one of many tokenisation methods, one of the most simple.*\n",
    "\n",
    "**As an aside, let's see how ChatGPT's tokeniser works...**"
   ]
  },
  {
   "cell_type": "code",
   "execution_count": 138,
   "id": "c6751786-c7ce-410e-be92-c8665d0f7ac5",
   "metadata": {
    "tags": []
   },
   "outputs": [
    {
     "name": "stdout",
     "output_type": "stream",
     "text": [
      "[30871, 9544, 13493, 43699]\n",
      "Memory Hoarding OCD\n"
     ]
    }
   ],
   "source": [
    "import tiktoken\n",
    "enc = tiktoken.get_encoding('gpt2')\n",
    "enc.n_vocab\n",
    "print(enc.encode(\"Memory Hoarding OCD\"))\n",
    "print(enc.decode([30871, 9544, 13493, 43699]))"
   ]
  },
  {
   "cell_type": "markdown",
   "id": "8efb1ec9-3397-40e3-8595-b5a38cd531b7",
   "metadata": {},
   "source": [
    "Tradeoff between **sequence length** and **vocabulary size**\n",
    "\n",
    "Before we start, `tensors`:\n",
    "\n",
    "> A great introduction to Tensors in ML from Minsuk Heo: https://youtu.be/tIqoI4jGE-w\n",
    "\n",
    "---"
   ]
  },
  {
   "cell_type": "code",
   "execution_count": 139,
   "id": "831449ed-4dfc-4ca0-98c2-5c94ec833e71",
   "metadata": {
    "tags": []
   },
   "outputs": [
    {
     "name": "stdout",
     "output_type": "stream",
     "text": [
      "torch.Size([419153]) torch.int64\n",
      "tensor([71, 69, 84,  2, 84, 79,  2, 76, 69, 65, 82, 78,  2, 65, 78, 68,  2, 66,\n",
      "        69,  2, 84, 72, 79, 82, 79, 85, 71, 72,  1, 53, 82, 89,  2, 40, 82, 79,\n",
      "        87, 15,  2, 65, 78, 68, 68, 68, 68, 68, 68, 68, 68, 68, 68, 68,  2, 77,\n",
      "        69, 87, 15,  2,  1, 84, 72, 69,  2, 68, 82, 69, 65, 77,  2, 65, 66, 79,\n",
      "        85, 84,  2, 85, 72, 72, 72, 72, 72, 27,  2, 83, 79,  2, 77, 65, 78, 89,\n",
      "         2, 68, 82, 69, 65, 77, 83,  2,  1, 79])\n"
     ]
    }
   ],
   "source": [
    "# Let's now encode all of my thoughts and store in a torch.Tensor\n",
    "import torch \n",
    "data = torch.tensor(encode(text), dtype=torch.long)\n",
    "print(data.shape, data.dtype)\n",
    "print(data[:100]) # This is what my thoughts look like to the GPT"
   ]
  },
  {
   "cell_type": "code",
   "execution_count": 140,
   "id": "f12e9414-2c68-4a37-89a5-61bce259f56a",
   "metadata": {
    "tags": []
   },
   "outputs": [],
   "source": [
    "# Now, split up the data into train and validation sets\n",
    "n = int(0.9*len(data)) # 90 : 10 split, train/val\n",
    "train_data = data[:n]\n",
    "valid_data = data[n:]"
   ]
  },
  {
   "cell_type": "markdown",
   "id": "70939b86-774c-4991-8028-9057cc71d4ba",
   "metadata": {},
   "source": [
    "Helps us understand to what extend model is overfitting. \n",
    "We don't want the model to memorise and replicate thoughts exactly. \n",
    "\n",
    "---\n",
    "\n",
    "# Data Loader\n",
    "\n",
    "- We're going to start plugging the text sequences into the transformer so that it can train, recognise and learn. \n",
    "- We're not going to feed the transformer my entire consciousness all at once, this would be too **computationally** (and existentially) expensive. \n",
    "- Instead, we are going to train on smaller, sampled chunks\n",
    "- The length of these chunks is typically called `block_size`"
   ]
  },
  {
   "cell_type": "code",
   "execution_count": 141,
   "id": "c816bcf0-5311-46c7-b9cd-b63add594c41",
   "metadata": {
    "tags": []
   },
   "outputs": [
    {
     "data": {
      "text/plain": [
       "tensor([71, 69, 84,  2, 84, 79,  2, 76, 69])"
      ]
     },
     "execution_count": 141,
     "metadata": {},
     "output_type": "execute_result"
    }
   ],
   "source": [
    "block_size = 8\n",
    "train_data[:block_size+1] # +1  because"
   ]
  },
  {
   "cell_type": "markdown",
   "id": "2ecd48de-1be0-457a-bc56-9351ec4714b9",
   "metadata": {},
   "source": [
    "- The first nine characters in the sequence\n",
    "- This chunk has multiple examples within it; it has multiple instances of one character following another character (in sequence)\n",
    "- The transformer is going to be trained simeltaneously at every position. In a chunk of 9 characters, there are 8 sequence instances. \n",
    "> - E.g: Given character `71`, `69` is likely to come next\n",
    "> - Given character `69`, `84` is likely to come next\n",
    "> - etc etc..."
   ]
  },
  {
   "cell_type": "code",
   "execution_count": 142,
   "id": "b9b59d90-4e6d-4ae6-a7f6-dd1aa123c5fc",
   "metadata": {
    "tags": []
   },
   "outputs": [
    {
     "name": "stdout",
     "output_type": "stream",
     "text": [
      "When input is: tensor([71]) the target is: 69\n",
      "When input is: tensor([71, 69]) the target is: 84\n",
      "When input is: tensor([71, 69, 84]) the target is: 2\n",
      "When input is: tensor([71, 69, 84,  2]) the target is: 84\n",
      "When input is: tensor([71, 69, 84,  2, 84]) the target is: 79\n",
      "When input is: tensor([71, 69, 84,  2, 84, 79]) the target is: 2\n",
      "When input is: tensor([71, 69, 84,  2, 84, 79,  2]) the target is: 76\n",
      "When input is: tensor([71, 69, 84,  2, 84, 79,  2, 76]) the target is: 69\n"
     ]
    }
   ],
   "source": [
    "# This concept visualised...\n",
    "x = train_data[:block_size]\n",
    "y = train_data[1:block_size+1]\n",
    "for t in range(block_size):\n",
    "    context = x[:t+1]\n",
    "    target = y[t]\n",
    "    print(f\"When input is: {context} the target is: {target}\")"
   ]
  },
  {
   "cell_type": "markdown",
   "id": "3f81d179-560c-4d1c-af0d-cb5c280b0dec",
   "metadata": {},
   "source": [
    "*Note that we train on all 8 examples with context from 1 to 8. \n",
    "- Not done just for computational efficiency but:\n",
    "- In order to train the transformer on all permutations of the sequence; make it used to seeing everything inbetween\n",
    "- Will be used later, in inference, where generation can be started with only 1 character as context\n",
    "    - It would then predict all the way up to `block_size`\n",
    "    - After this length, we have to start truncating, \n",
    "    - Since the transformer will never more than `block_size` inputs when predicting the next character\n",
    "    \n",
    "--- \n",
    "\n",
    "We've now seen time dimension of tensors being fed to transformers.\n",
    "- Must also consider **'batch' dimension**\n",
    "- When sampling chunks of text, we're going to have many batches of multiple chunks of text, stacked up in a single Tensor\n",
    "- This is done for effiency, since GPU's are good at parallel processing of data\n",
    "- These chunks are processed independently"
   ]
  },
  {
   "cell_type": "code",
   "execution_count": 143,
   "id": "fe9476cc-9d18-44c8-9f70-735c4e4448bf",
   "metadata": {
    "tags": []
   },
   "outputs": [
    {
     "name": "stdout",
     "output_type": "stream",
     "text": [
      "Inputs: \n",
      "torch.Size([4, 8])\n",
      "tensor([[ 2, 15,  2, 40, 69, 84,  2, 84],\n",
      "        [15,  2, 46, 69, 87, 15,  2, 52],\n",
      "        [79, 77, 16, 86, 73, 69, 87, 64],\n",
      "        [73,  2, 84, 79, 79, 15,  2, 53]])\n",
      "\n",
      "Targets: (Note the 1 offset)\n",
      "torch.Size([4, 8])\n",
      "tensor([[15,  2, 40, 69, 84,  2, 84, 79],\n",
      "        [ 2, 46, 69, 87, 15,  2, 52, 84],\n",
      "        [77, 16, 86, 73, 69, 87, 64, 86],\n",
      "        [ 2, 84, 79, 79, 15,  2, 53, 58]])\n",
      "\n",
      "+>=====================================<+\n",
      "When input is: [2] the target is: 15\n",
      "When input is: [2, 15] the target is: 2\n",
      "When input is: [2, 15, 2] the target is: 40\n",
      "When input is: [2, 15, 2, 40] the target is: 69\n",
      "When input is: [2, 15, 2, 40, 69] the target is: 84\n",
      "When input is: [2, 15, 2, 40, 69, 84] the target is: 2\n",
      "When input is: [2, 15, 2, 40, 69, 84, 2] the target is: 84\n",
      "When input is: [2, 15, 2, 40, 69, 84, 2, 84] the target is: 79\n",
      "When input is: [15] the target is: 2\n",
      "When input is: [15, 2] the target is: 46\n",
      "When input is: [15, 2, 46] the target is: 69\n",
      "When input is: [15, 2, 46, 69] the target is: 87\n",
      "When input is: [15, 2, 46, 69, 87] the target is: 15\n",
      "When input is: [15, 2, 46, 69, 87, 15] the target is: 2\n",
      "When input is: [15, 2, 46, 69, 87, 15, 2] the target is: 52\n",
      "When input is: [15, 2, 46, 69, 87, 15, 2, 52] the target is: 84\n",
      "When input is: [79] the target is: 77\n",
      "When input is: [79, 77] the target is: 16\n",
      "When input is: [79, 77, 16] the target is: 86\n",
      "When input is: [79, 77, 16, 86] the target is: 73\n",
      "When input is: [79, 77, 16, 86, 73] the target is: 69\n",
      "When input is: [79, 77, 16, 86, 73, 69] the target is: 87\n",
      "When input is: [79, 77, 16, 86, 73, 69, 87] the target is: 64\n",
      "When input is: [79, 77, 16, 86, 73, 69, 87, 64] the target is: 86\n",
      "When input is: [73] the target is: 2\n",
      "When input is: [73, 2] the target is: 84\n",
      "When input is: [73, 2, 84] the target is: 79\n",
      "When input is: [73, 2, 84, 79] the target is: 79\n",
      "When input is: [73, 2, 84, 79, 79] the target is: 15\n",
      "When input is: [73, 2, 84, 79, 79, 15] the target is: 2\n",
      "When input is: [73, 2, 84, 79, 79, 15, 2] the target is: 53\n",
      "When input is: [73, 2, 84, 79, 79, 15, 2, 53] the target is: 58\n"
     ]
    }
   ],
   "source": [
    "torch.manual_seed(2904) # For random number generator\n",
    "batch_size = 4 # Independent sequences to be processed in parallel (every forward backward pass)\n",
    "block_size = 8 # Maximum content length for predictions\n",
    "\n",
    "def get_batch(split):\n",
    "    # Generate a small batch of data of inputs x and targets y\n",
    "    data = train_data if split == 'train' else valid_data\n",
    "    ix = torch.randint(len(data) - block_size, (batch_size, ))\n",
    "    # Stack one-dimensional tensors\n",
    "    x = torch.stack([data[i:i+block_size] for i in ix]) \n",
    "    # Contain the 'answer' for the transformer, provide loss function\n",
    "    y = torch.stack([data[i+1:i+block_size+1] for i in ix]) \n",
    "    return x, y\n",
    "                       \n",
    "xb, yb = get_batch('train')\n",
    "print('Inputs: ')\n",
    "print(xb.shape)\n",
    "print(xb)\n",
    "print('\\nTargets: (Note the 1 offset)')\n",
    "print(yb.shape)\n",
    "print(yb)\n",
    "print()\n",
    "print(line_div)\n",
    "\n",
    "# Let's see inside tensors X and Y\n",
    "for b in range(batch_size):       # Batch dimension\n",
    "    for t in range(block_size):   # Time dimension\n",
    "        context = xb[b, :t+1]\n",
    "        target = yb[b, t]\n",
    "        print(f\"When input is: {context.tolist()} the target is: {target}\")"
   ]
  },
  {
   "cell_type": "markdown",
   "id": "03993ae5-3b32-43e7-b90f-71950914d113",
   "metadata": {},
   "source": [
    "# Neural Network\n",
    "\n",
    "- We are going to begin with the most fundamental neural network, the **`Bigram language model`**\n",
    "> The bigram language model is a type of probabilistic language model that predicts the next word in a text based on the previous word only, effectively considering the text as a sequence of word pairs."
   ]
  },
  {
   "cell_type": "code",
   "execution_count": 144,
   "id": "a03eaf46-ca92-4a97-a900-edea90db36d2",
   "metadata": {},
   "outputs": [
    {
     "name": "stdout",
     "output_type": "stream",
     "text": [
      "+>=====================================<+\n",
      "tensor([[ 2, 15,  2, 40, 69, 84,  2, 84],\n",
      "        [15,  2, 46, 69, 87, 15,  2, 52],\n",
      "        [79, 77, 16, 86, 73, 69, 87, 64],\n",
      "        [73,  2, 84, 79, 79, 15,  2, 53]])\n",
      "+>=====================================<+\n"
     ]
    }
   ],
   "source": [
    "# Our input to the transformer, will be fed into Neural Network: \n",
    "print(line_div)\n",
    "print(xb)\n",
    "print(line_div)"
   ]
  },
  {
   "cell_type": "code",
   "execution_count": 156,
   "id": "2edfc674-bf82-4d80-b9df-ccccd9d5d2f1",
   "metadata": {
    "tags": []
   },
   "outputs": [
    {
     "name": "stdout",
     "output_type": "stream",
     "text": [
      "Shape: torch.Size([256, 129])\n",
      "Loss: tensor(5.2490, grad_fn=<NllLossBackward0>)\n",
      "\t;aOO*=V,4a€\\ \n",
      "*Ay<iM+“@d찬BUO🫀%€um5a6😔m=nX⏰️5I4…u🧎임{y$^$qvi🧎👂⏰c{y “N—H3—'️dY‍Ly️😁a€🫁A🐚78O찬—~⏰=*🧎jwQUc.\n"
     ]
    }
   ],
   "source": [
    "# Python bigram implementation\n",
    "import torch\n",
    "import torch.nn as nn\n",
    "from torch.nn import functional as F\n",
    "torch.manual_seed(2904)\n",
    "\n",
    "# Define a BigramLanguageModel as a subclass of PyTorch's nn.Module\n",
    "class BigramLanguageModel(nn.Module):\n",
    "    \n",
    "    # Initialize the class with vocab_size (the total number of unique words in your dataset) as an argument\n",
    "    def __init__(self, vocab_size):\n",
    "        super().__init__()  # Call the parent class's (nn.Module's) initializer\n",
    "\n",
    "        # Create an embedding table with vocab_size rows and columns.\n",
    "        # This table will be used to look up the logits (unnormalized log probabilities) for the next token (word)\n",
    "        # given the current token.\n",
    "        self.token_embedding_table = nn.Embedding(vocab_size, vocab_size)\n",
    "        \n",
    "    # The forward function that will be called when we process inputs through our model\n",
    "    def forward(self, idx, targets = None):\n",
    "        # idx and targets are both tensors of shape (B, T) where B is batch size and T is sequence length\n",
    "        # (number of tokens in each input sequence)\n",
    "\n",
    "        # Look up the logits for each token in idx using the embedding table, resulting in a tensor of shape (B, T, C),\n",
    "        # where C is the vocab size (number of classes)\n",
    "        logits = self.token_embedding_table(idx)\n",
    "        \n",
    "        if targets is None:\n",
    "            loss = None\n",
    "        else:\n",
    "        \n",
    "            B, T, C = logits.shape \n",
    "            logits = logits.view(B*T, C) # Preserve channel, 2D\n",
    "            targets = targets.view(B*T) # Stretch out to 1D\n",
    "            # A good way to measure loss/quality of predictions is:\n",
    "            loss = F.cross_entropy(logits, targets)\n",
    "        \n",
    "        # Return the logits which can then be used to compute the loss for training or used for making predictions\n",
    "        # Generates predictions/scores/logits for every one of 4x8 positions\n",
    "        return logits, loss\n",
    "    \n",
    "    # We've evaluated the model on the data, now let's generate\n",
    "    # This function essentially extends (B, T) -> (B, T+1) etc...\n",
    "    def generate(self, idx, max_new_tokens):\n",
    "        # idx is (B, T) array of indices in the current context\n",
    "        for _ in range(max_new_tokens):\n",
    "            # Forward pass the current context through the model to get the output logits and loss\n",
    "            logits, loss = self(idx)\n",
    "            # We're only interested in the logits for the last token in the sequence, \n",
    "            # as we'll be appending our new token to the end\n",
    "            logits = logits[:, -1, :] # (B, C)\n",
    "            # Apply softmax to convert the logits to probabilities\n",
    "            probs = F.softmax(logits, dim=-1) # (B, C)\n",
    "            # Sample a new token from the probability distribution for each sequence in the batch\n",
    "            idx_next = torch.multinomial(probs, num_samples=1) # (B, 1)\n",
    "            # Append the new token to the end of the current context\n",
    "            idx = torch.cat((idx, idx_next), dim=1) # (B, T+1)\n",
    "        return idx\n",
    "            \n",
    "\n",
    "# Instantiate the model with a specific vocabulary size\n",
    "m = BigramLanguageModel(vocab_size)\n",
    "\n",
    "# Forward pass some inputs (xb) and targets (yb) through the model to get the output logits\n",
    "logits, loss = m(xb, yb) \n",
    "\n",
    "print(\"Shape:\", logits.shape)\n",
    "print(\"Loss:\", loss)\n",
    "\n",
    "# GENERATES TEXT    |     idx = (1,1) tensor of zero's     |    asks for 100 tokens   |   unpluck\n",
    "print(decode(m.generate(torch.zeros((1, 1), dtype=torch.long), max_new_tokens=100)[0].tolist()))"
   ]
  },
  {
   "cell_type": "markdown",
   "id": "4eb41e04-ef3d-4744-8761-9cdc51bba95e",
   "metadata": {},
   "source": [
    "### So what is actually going on here? (in Layman's terms)\n",
    "Garbage, model untrained. \n",
    "Supposed to be general. Building up this context\n",
    "to make prediction about 'P', only needs to know the letter before\n",
    "Only looks at very last piece (bigram)\n",
    "Would like to keep as bigram, for later when we look further down the string, using history. \n",
    "\n",
    "print(\"\\n\" + line_div + \"\\n\")\n",
    "print(\"A logit, in the context of machine learning, is the raw output of a model's prediction before being passed through a normalization function, such as the softmax function, which converts these values into probabilities. We are predicting what comes next based on the individual identity of a single token.\")\n",
    "individual\n",
    "# We can estimate what the loss should be\n",
    "expected_loss = -log(1/110)\n",
    "print(expected_loss)\n",
    "\n",
    "# Train the Model"
   ]
  },
  {
   "cell_type": "code",
   "execution_count": 157,
   "id": "e2c38e73-8d1f-430e-ae83-c26f551940d3",
   "metadata": {
    "tags": []
   },
   "outputs": [
    {
     "name": "stdout",
     "output_type": "stream",
     "text": [
      "Loss at step 0     = 5.2606425285339355\n",
      "Loss at step 5000  = 2.8139243125915527\n",
      "Loss at step 10000 = 2.5459952354431152\n",
      "Loss at step 15000 = 2.6847891807556152\n",
      "Loss at step 20000 = 2.618548631668091\n",
      "Loss at step 25000 = 2.607581377029419\n",
      "Loss at step 30000 = 2.7915594577789307\n",
      "Loss at step 35000 = 2.6311264038085938\n",
      "Loss at step 40000 = 2.7146308422088623\n",
      "Loss at step 45000 = 2.7556068897247314\n",
      "Loss at step 50000 = 2.6756060123443604\n",
      "Loss at step 55000 = 2.6099538803100586\n",
      "Loss at step 60000 = 2.5353879928588867\n",
      "Loss at step 65000 = 2.6277284622192383\n",
      "Loss at step 70000 = 2.6761248111724854\n",
      "Loss at step 75000 = 2.5475010871887207\n",
      "Loss at step 80000 = 2.6992759704589844\n",
      "Loss at step 85000 = 2.6361122131347656\n",
      "Loss at step 90000 = 2.690901279449463\n",
      "Loss at step 95000 = 2.6418774127960205\n"
     ]
    }
   ],
   "source": [
    "'''\n",
    "Create PyTorch optimiser\n",
    "Stochastic Gradient Descent = SGD\n",
    "AdamW = more advanced, optimised\n",
    "lr = learning rate\n",
    "'''\n",
    "optimizer = torch.optim.AdamW(m.parameters(), lr=1e-3)\n",
    "\n",
    "# Increase from 4\n",
    "batch_size = 32\n",
    "\n",
    "# Typical training loop\n",
    "for steps in range(100000):\n",
    "    # Sample a batch of data\n",
    "    xb, yb = get_batch('train')\n",
    "    \n",
    "    # Evaluate the loss\n",
    "    logits, loss = m(xb, yb)\n",
    "    # Zero-out gradients from previous step\n",
    "    optimizer.zero_grad(set_to_none=True)\n",
    "    # Get gradients from previous parameters\n",
    "    loss.backward()\n",
    "    # Use gradients to update parameters\n",
    "    optimizer.step()\n",
    "    if steps % 5000 == 0:\n",
    "        print(f\"Loss at step {steps:<5} = {loss.item()}\")"
   ]
  },
  {
   "cell_type": "code",
   "execution_count": 158,
   "id": "218695db-d5cf-45ec-bf4e-3f2be9505b65",
   "metadata": {
    "tags": []
   },
   "outputs": [
    {
     "name": "stdout",
     "output_type": "stream",
     "text": [
      "\t⁃\t⁃\tAng shalinonacurky R*\n",
      "Jeike ALithem poond wasound bie’tacpo sf Umildeewarshonurve far haver go w’s joge ur Re An. FOO hacuct’sare\n",
      "‘douso\n",
      "He t’ssg a \n",
      "NOL t d br handime. MU. bangh ONorunthed berenc\n"
     ]
    }
   ],
   "source": [
    "print(decode(m.generate(torch.zeros((1, 1), dtype=torch.long), max_new_tokens=200)[0].tolist()))"
   ]
  },
  {
   "cell_type": "markdown",
   "id": "7223add8-e068-4441-b5cf-6ef8c5b00269",
   "metadata": {},
   "source": [
    "> Aside: *It's beautiful. It's like... learning. To me, the user, reading this feels like maybeif you were to peer into my brain during a stroke - somewhat fragmented, nonsensical, but fundamenally THERE. Without even knowing what the repeated and common words I express in writing are, I can see them... somehow sense them in the jumble. \n",
    "Of course, only I, the author, can comprehend this particular feeling, but that alone is okay. It's... generating* \n",
    "\n",
    "- This is a very basic model. The token's are completely independent and not talking to one another (the model only generates upon the very last character. \n",
    "- We shall now kick off the transformer exploration, where this pitfall will be resolved as we allow the model to take in more context, beyond just the final character.\n",
    "- We are almost ready to make our first self-attention block...\n",
    "\n",
    "# A mathematical trick in self-attention"
   ]
  },
  {
   "cell_type": "code",
   "execution_count": 152,
   "id": "3d248d11-6a70-41c3-a19f-bc331003d4b7",
   "metadata": {
    "tags": []
   },
   "outputs": [
    {
     "data": {
      "text/plain": [
       "torch.Size([4, 8, 2])"
      ]
     },
     "execution_count": 152,
     "metadata": {},
     "output_type": "execute_result"
    }
   ],
   "source": [
    "# Consider the following toy example:\n",
    "\n",
    "torch.manual_seed(2409)\n",
    "B, T, C = 4, 8, 2 # Batch, Time, Channels\n",
    "x = torch.randn(B, T, C)\n",
    "x.shape"
   ]
  },
  {
   "attachments": {
    "1b0b78c6-80d1-49a2-ae9a-aaa47995a1c8.png": {
     "image/png": "[encoded data removed]"
    },
    "3fc9871e-5926-4bb3-a322-de8cbf3a28e3.png": {
     "image/png": "[encoded data removed]"
    },
    "4f7f652c-d4a6-424a-8605-ffc0fc3fa7f0.png": {
     "image/png": "[encoded data removed]"
    },
    "b648eeee-e330-40f0-84f0-6d20199bfa4f.png": {
     "image/png": "[encoded data removed]"
    }
   },
   "cell_type": "markdown",
   "id": "0af4a946-af1b-4a84-9e53-79f0bf6e8bf9",
   "metadata": {},
   "source": [
    "We would like the batches to talk to each other, couple them\n",
    "E.g: Token at 5th location should not communicate with tokens in 6th, 7th...\n",
    "but 4th, 3trd, 2nd, 1st.\n",
    "Information only flows from previous context to current timestep, can't get info from future\n",
    "\n",
    "Easiest way for tokens to communicate with past:\n",
    "Do an average of all preceding elements:\n",
    "- If 5th token, take channels from current but also 4, 3, 2, 1\n",
    "- Would become a feature vector that summarises *me in the context of my history*\n",
    "- Just doing a sum/average is extremely weak form of interaction\n",
    "- Lost lots of information about spatial arrangement of tokens\n",
    "\n",
    "xBOW = x-bag-of-words\n",
    "https://www.clasher.us/images/coc/units/XBow3.png![image.png](attachment:1b0b78c6-80d1-49a2-ae9a-aaa47995a1c8.png)![image.png](attachment:3fc9871e-5926-4bb3-a322-de8cbf3a28e3.png)![image.png](attachment:b648eeee-e330-40f0-84f0-6d20199bfa4f.png)![image.png](attachment:4f7f652c-d4a6-424a-8605-ffc0fc3fa7f0.png)"
   ]
  },
  {
   "cell_type": "code",
   "execution_count": 198,
   "id": "2ed7b818-5e01-4ae1-af7f-544b4a18aff4",
   "metadata": {
    "tags": []
   },
   "outputs": [
    {
     "name": "stdout",
     "output_type": "stream",
     "text": [
      "Original tensor:\n",
      "tensor([[ 2.1460,  1.1935],\n",
      "        [-0.2696,  0.1718],\n",
      "        [-1.6827,  1.9589],\n",
      "        [ 0.2738, -0.3953],\n",
      "        [ 0.8634, -1.6887],\n",
      "        [-2.2527, -0.3458],\n",
      "        [-1.0407,  0.1434],\n",
      "        [ 0.7427, -0.7484]])\n",
      "\n",
      "+>=====================================<+\n",
      "\n",
      "B.O.W tensor:\n",
      "[2.1460, 1.1935] <= Average of first 1 rows\n",
      "[0.9382, 0.6826] <= Average of first 2 rows\n",
      "[0.0646, 1.1080] <= Average of first 3 rows\n",
      "[0.1169, 0.7322] <= Average of first 4 rows\n",
      "[0.2662, 0.2480] <= Average of first 5 rows\n",
      "[-0.1536,  0.1490] <= Average of first 6 rows\n",
      "[-0.2804,  0.1482] <= Average of first 7 rows\n",
      "[-0.1525,  0.0362] <= Average of first 8 rows\n",
      "\n",
      "+>=====================================<+\n",
      "\n",
      "Runtime: 0.00 seconds\n"
     ]
    }
   ],
   "source": [
    "import time\n",
    "\n",
    "# Version 1: the greedy approach \n",
    "\n",
    "# We want x[b, t] = mean_{i<=t} x[b, i]\n",
    "xbow = torch.zeros((B, T, C))\n",
    "# Not being efficient yet, use for loop\n",
    "start_time = time.time()\n",
    "for b in range(B):\n",
    "    for t in range(T):\n",
    "        xprev = x[b,:t+1] \n",
    "        xbow[b,t] = torch.mean(xprev, 0)\n",
    "\n",
    "end_time = time.time()\n",
    "print(\"Original tensor:\")\n",
    "print(x[0])\n",
    "print('\\n'+line_div+'\\n')\n",
    "print(\"B.O.W tensor:\")\n",
    "for i in range(len(xbow[0])):\n",
    "    print(str(xbow[0][i])[7:-1] + f\" <= Average of first {i+1} rows\")\n",
    "print('\\n'+line_div+'\\n')\n",
    "print(f\"Runtime: {end_time - start_time:.2f} seconds\")"
   ]
  },
  {
   "cell_type": "markdown",
   "id": "8c9f09c6-58b2-4871-bd30-08d8fb0cb94d",
   "metadata": {
    "tags": []
   },
   "source": [
    "# Matrix Multiplication\n",
    "\n",
    "- In order to improve efficiency\n",
    "- Triangular\n",
    "\n",
    "---\n",
    "\n",
    "*Toy example...*\n",
    "```python\n",
    "# Result of multipying a 3x2 matrix by matrix of just one's\n",
    "a =\n",
    "tensor([[1., 1., 1.],\n",
    "        [1., 1., 1.],\n",
    "        [1., 1., 1.]])\n",
    "---\n",
    "b =\n",
    "tensor([[2., 7.],\n",
    "        [6., 4.],\n",
    "        [6., 5.]])\n",
    "---\n",
    "a @ b =\n",
    "tensor([[14., 16.],\n",
    "        [14., 16.],\n",
    "        [14., 16.]])\n",
    "\n",
    ">+=========================+<\n",
    "\n",
    "# Take the lower triangular part of matrix A\n",
    "a =\n",
    "tensor([[1., 0., 0.],\n",
    "        [1., 1., 0.],\n",
    "        [1., 1., 1.]])\n",
    "---\n",
    "b =\n",
    "tensor([[2., 7.],\n",
    "        [6., 4.],\n",
    "        [6., 5.]])\n",
    "---\n",
    "a @ b =\n",
    "tensor([[ 2.,  7.],\n",
    "        [ 8., 11.],\n",
    "        [14., 16.]])\n",
    "        \n",
    ">+=========================+<\n",
    "\n",
    "# The trick: NORMALISE the rows so that they sum to 1. This has the effect of finding the incremental average when multiplied through\n",
    "a =\n",
    "tensor([[1.0000, 0.0000, 0.0000],\n",
    "        [0.5000, 0.5000, 0.0000],\n",
    "        [0.3333, 0.3333, 0.3333]])\n",
    "---\n",
    "b =\n",
    "tensor([[2., 7.],\n",
    "        [6., 4.],\n",
    "        [6., 5.]])\n",
    "---\n",
    "a @ b =\n",
    "tensor([[2.0000, 7.0000],   # Just the first row \n",
    "        [4.0000, 5.5000],   # Average of the first 2 rows\n",
    "        [4.6667, 5.3333]])  # Average of the first 3 rows \n",
    "```"
   ]
  },
  {
   "cell_type": "code",
   "execution_count": 194,
   "id": "2fcc4b42-4f08-42a4-baf8-d8c9daa53d22",
   "metadata": {
    "tags": []
   },
   "outputs": [],
   "source": [
    "# If we use: \n",
    "triangular_lower = torch.tril(torch.ones(3, 3)) "
   ]
  },
  {
   "cell_type": "code",
   "execution_count": 197,
   "id": "779ffacf-b075-475f-8606-bb3d188000dc",
   "metadata": {
    "tags": []
   },
   "outputs": [
    {
     "name": "stdout",
     "output_type": "stream",
     "text": [
      "tensor([[2.0000, 7.0000],\n",
      "        [4.0000, 5.5000],\n",
      "        [4.6667, 5.3333]])\n"
     ]
    }
   ],
   "source": [
    "torch.manual_seed(42)\n",
    "a = triangular_lower\n",
    "a = a / torch.sum(a, 1, keepdim=True)\n",
    "b = torch.randint(0,10,(3,2)).float()\n",
    "c = a @ b\n",
    "print(c)"
   ]
  },
  {
   "cell_type": "markdown",
   "id": "0435a8a5-163e-4673-a281-ba30d4869ed9",
   "metadata": {},
   "source": [
    "---\n",
    "\n",
    "- We used batch matrix multiply to do aggregation. The weights are specified in (T, T) arrow. \n",
    "- Now that we know how to efficiently calculate the aggregated average, let's integrate it and continue work into the transformer... "
   ]
  },
  {
   "cell_type": "code",
   "execution_count": 204,
   "id": "071d665b-2799-40a7-b54d-4b98ed08156c",
   "metadata": {
    "tags": []
   },
   "outputs": [
    {
     "name": "stdout",
     "output_type": "stream",
     "text": [
      "Note how the rows all sum to 1:\n",
      " tensor([[1.0000, 0.0000, 0.0000, 0.0000, 0.0000, 0.0000, 0.0000, 0.0000],\n",
      "        [0.5000, 0.5000, 0.0000, 0.0000, 0.0000, 0.0000, 0.0000, 0.0000],\n",
      "        [0.3333, 0.3333, 0.3333, 0.0000, 0.0000, 0.0000, 0.0000, 0.0000],\n",
      "        [0.2500, 0.2500, 0.2500, 0.2500, 0.0000, 0.0000, 0.0000, 0.0000],\n",
      "        [0.2000, 0.2000, 0.2000, 0.2000, 0.2000, 0.0000, 0.0000, 0.0000],\n",
      "        [0.1667, 0.1667, 0.1667, 0.1667, 0.1667, 0.1667, 0.0000, 0.0000],\n",
      "        [0.1429, 0.1429, 0.1429, 0.1429, 0.1429, 0.1429, 0.1429, 0.0000],\n",
      "        [0.1250, 0.1250, 0.1250, 0.1250, 0.1250, 0.1250, 0.1250, 0.1250]])\n",
      "Identical = True\n"
     ]
    }
   ],
   "source": [
    "# Version 2: using matrix multiplication\n",
    "\n",
    "wei = torch.tril(torch.ones(T, T)) # wei = Weights\n",
    "wei = wei / wei.sum(1, keepdim=True)\n",
    "print('Note how the rows all sum to 1:\\n', wei) \n",
    "\n",
    "xbow2 = wei @ x # (B, T, T) @ (B, T, C) => (B, T, C)\n",
    "print('Identical =', torch.allclose(xbow, xbow2)) # Proof that both methods yield the same result"
   ]
  },
  {
   "cell_type": "code",
   "execution_count": 206,
   "id": "8654f502-cf25-4656-9b0b-23a4db6bc5a2",
   "metadata": {
    "tags": []
   },
   "outputs": [
    {
     "name": "stdout",
     "output_type": "stream",
     "text": [
      "tensor([[0., 0., 0., 0., 0., 0., 0., 0.],\n",
      "        [0., 0., 0., 0., 0., 0., 0., 0.],\n",
      "        [0., 0., 0., 0., 0., 0., 0., 0.],\n",
      "        [0., 0., 0., 0., 0., 0., 0., 0.],\n",
      "        [0., 0., 0., 0., 0., 0., 0., 0.],\n",
      "        [0., 0., 0., 0., 0., 0., 0., 0.],\n",
      "        [0., 0., 0., 0., 0., 0., 0., 0.],\n",
      "        [0., 0., 0., 0., 0., 0., 0., 0.]])\n",
      "tensor([[0., -inf, -inf, -inf, -inf, -inf, -inf, -inf],\n",
      "        [0., 0., -inf, -inf, -inf, -inf, -inf, -inf],\n",
      "        [0., 0., 0., -inf, -inf, -inf, -inf, -inf],\n",
      "        [0., 0., 0., 0., -inf, -inf, -inf, -inf],\n",
      "        [0., 0., 0., 0., 0., -inf, -inf, -inf],\n",
      "        [0., 0., 0., 0., 0., 0., -inf, -inf],\n",
      "        [0., 0., 0., 0., 0., 0., 0., -inf],\n",
      "        [0., 0., 0., 0., 0., 0., 0., 0.]])\n",
      "tensor([[1.0000, 0.0000, 0.0000, 0.0000, 0.0000, 0.0000, 0.0000, 0.0000],\n",
      "        [0.5000, 0.5000, 0.0000, 0.0000, 0.0000, 0.0000, 0.0000, 0.0000],\n",
      "        [0.3333, 0.3333, 0.3333, 0.0000, 0.0000, 0.0000, 0.0000, 0.0000],\n",
      "        [0.2500, 0.2500, 0.2500, 0.2500, 0.0000, 0.0000, 0.0000, 0.0000],\n",
      "        [0.2000, 0.2000, 0.2000, 0.2000, 0.2000, 0.0000, 0.0000, 0.0000],\n",
      "        [0.1667, 0.1667, 0.1667, 0.1667, 0.1667, 0.1667, 0.0000, 0.0000],\n",
      "        [0.1429, 0.1429, 0.1429, 0.1429, 0.1429, 0.1429, 0.1429, 0.0000],\n",
      "        [0.1250, 0.1250, 0.1250, 0.1250, 0.1250, 0.1250, 0.1250, 0.1250]])\n"
     ]
    },
    {
     "data": {
      "text/plain": [
       "True"
      ]
     },
     "execution_count": 206,
     "metadata": {},
     "output_type": "execute_result"
    }
   ],
   "source": [
    "# Version 3: use Softmax\n",
    "\n",
    "tril = torch.tril(torch.ones(T, T)) # wei = Weights\n",
    "wei = torch.zeros((T, T)) # [0, 0, 0, ...]\n",
    "print(wei)\n",
    "wei = wei.masked_fill(tril == 0, float('-inf'))\n",
    "print(wei)\n",
    "wei = F.softmax(wei, dim=1)\n",
    "print(wei)\n",
    "xbow3 = wei @ x # Aggregate \n",
    "torch.allclose(xbow, xbow3)"
   ]
  },
  {
   "cell_type": "markdown",
   "id": "39d25ce2-77e2-48bb-8b60-852b433a1553",
   "metadata": {},
   "source": [
    "*(Self attention preview)*\n",
    "\n",
    "\"We use this because: you can do weighted aggregations of past elements by using matrix multiplication of a lower triangular fashion. The elements in the lower triangular part tell you how much each element fuses into this position.\"\n",
    "\n",
    "---\n",
    "**⚠️ Ignore this section if you know what softmax is**\n",
    "\n",
    "`softmax`:\n",
    "\n",
    "> - The softmax function is used in machine learning to turn numbers into probabilities. \n",
    "> - It operates on a list of numbers, increasing the difference between the largest and the rest, which makes the largest number(s) stand out more. \n",
    "> - The output values are between 0 and 1, and they all add up to 1, hence forming a probability distribution.\n",
    "\n",
    "Let's say we have three raw scores: $[2, 1, 3]$. Applying softmax to these scores will give us probabilities. \n",
    "\n",
    "1. First, we compute the exponential of each score: $[exp(2), exp(1), exp(3)] ≈ [7.39, 2.72, 20.09]$\n",
    "2. Then, we divide each by the sum of these exponentials: $[7.39/30.2, 2.72/30.2, 20.09/30.2] ≈ [0.24, 0.09, 0.67]$\n",
    "\n",
    "So, the softmax of $[2, 1, 3]$ is $[0.24, 0.09, 0.67]$, where each number represents a probability, all adding up to 1. This means the third option is most likely according to our scores.\n",
    "\n",
    "\n",
    "---"
   ]
  },
  {
   "cell_type": "markdown",
   "id": "8f777c2e-71cd-4722-a015-3123aac2a449",
   "metadata": {},
   "source": [
    "# The Crux of Self Attention"
   ]
  },
  {
   "cell_type": "code",
   "execution_count": 209,
   "id": "b931b3f8-5354-4c5b-8b5b-0802d836b03c",
   "metadata": {
    "tags": []
   },
   "outputs": [
    {
     "data": {
      "text/plain": [
       "tensor([[1.0000, 0.0000, 0.0000, 0.0000, 0.0000, 0.0000, 0.0000, 0.0000],\n",
       "        [0.5000, 0.5000, 0.0000, 0.0000, 0.0000, 0.0000, 0.0000, 0.0000],\n",
       "        [0.3333, 0.3333, 0.3333, 0.0000, 0.0000, 0.0000, 0.0000, 0.0000],\n",
       "        [0.2500, 0.2500, 0.2500, 0.2500, 0.0000, 0.0000, 0.0000, 0.0000],\n",
       "        [0.2000, 0.2000, 0.2000, 0.2000, 0.2000, 0.0000, 0.0000, 0.0000],\n",
       "        [0.1667, 0.1667, 0.1667, 0.1667, 0.1667, 0.1667, 0.0000, 0.0000],\n",
       "        [0.1429, 0.1429, 0.1429, 0.1429, 0.1429, 0.1429, 0.1429, 0.0000],\n",
       "        [0.1250, 0.1250, 0.1250, 0.1250, 0.1250, 0.1250, 0.1250, 0.1250]])"
      ]
     },
     "execution_count": 209,
     "metadata": {},
     "output_type": "execute_result"
    }
   ],
   "source": [
    "# Version 4: Self Attention\n",
    "\n",
    "torch.manual_seed(2409)\n",
    "B, T, C = 4, 8, 32 # Batch, Time, Channels\n",
    "x = torch.randn(B, T, C)\n",
    "\n",
    "# Mixes current and past information into an average\n",
    "# Initialise the affinities of all nodes/tokens to be 0 \n",
    "tril = torch.tril(torch.ones(T, T)) # wei = Weights\n",
    "wei = torch.zeros((T, T)) # [0, 0, 0, ...]\n",
    "wei = wei.masked_fill(tril == 0, float('-inf'))\n",
    "wei = F.softmax(wei, dim=1)\n",
    "out = wei @ x # Aggregate \n",
    "\n",
    "out.shape\n",
    "wei"
   ]
  },
  {
   "cell_type": "markdown",
   "id": "f5757667-8b5e-4f56-9c37-1d906bfd677e",
   "metadata": {},
   "source": [
    "**Notice how all of the rows are uniform.** \n",
    "\n",
    "We don't want this, since some tokens will find other tokens more/less interesting. E.g: \n",
    "- As a vowel, maybe you're looking for consonants in my past, and I want to know what they are\n",
    "- And want that information to flow to me in a data dependent way\n",
    "- ***Self-attenion solves this problem.***\n",
    "\n",
    "### The way it does it: \n",
    "> Every single node/token will emit two vectors\n",
    "    > - A query: \"what am I looking for\"\n",
    "    > - A key: \"what do I contain\"\n",
    "\n",
    "The way we get affinities is by doing a dot product between keys and queries, and this dot product becomes `wei`.\n",
    "\n",
    "**If the key and the query are aligned**, they will interact highly, and then I will get to learn more about that token, compared to other tokens in the sequence. "
   ]
  },
  {
   "cell_type": "code",
   "execution_count": 217,
   "id": "f96f1c38-baae-4b8c-a801-e9f065b9b4dd",
   "metadata": {
    "tags": []
   },
   "outputs": [
    {
     "name": "stdout",
     "output_type": "stream",
     "text": [
      "tensor([[1.0000e+00, 0.0000e+00, 0.0000e+00, 0.0000e+00, 0.0000e+00, 0.0000e+00,\n",
      "         0.0000e+00, 0.0000e+00],\n",
      "        [6.3915e-01, 3.6085e-01, 0.0000e+00, 0.0000e+00, 0.0000e+00, 0.0000e+00,\n",
      "         0.0000e+00, 0.0000e+00],\n",
      "        [6.0008e-02, 8.4353e-01, 9.6466e-02, 0.0000e+00, 0.0000e+00, 0.0000e+00,\n",
      "         0.0000e+00, 0.0000e+00],\n",
      "        [4.1234e-01, 1.4058e-01, 3.7600e-01, 7.1081e-02, 0.0000e+00, 0.0000e+00,\n",
      "         0.0000e+00, 0.0000e+00],\n",
      "        [3.4089e-03, 2.5650e-03, 9.5254e-01, 3.5319e-02, 6.1646e-03, 0.0000e+00,\n",
      "         0.0000e+00, 0.0000e+00],\n",
      "        [1.9802e-01, 5.3819e-02, 3.7962e-01, 7.4549e-02, 2.8557e-01, 8.4291e-03,\n",
      "         0.0000e+00, 0.0000e+00],\n",
      "        [7.1239e-01, 2.1624e-03, 2.6574e-01, 6.3985e-04, 1.5857e-02, 2.9765e-03,\n",
      "         2.3471e-04, 0.0000e+00],\n",
      "        [4.9771e-02, 1.5909e-02, 1.5015e-03, 8.8353e-04, 2.2434e-03, 7.1278e-01,\n",
      "         2.1612e-01, 7.8660e-04]], grad_fn=<SelectBackward0>)\n"
     ]
    }
   ],
   "source": [
    "# Version 4: Self Attention (cont.)\n",
    "\n",
    "torch.manual_seed(2409)\n",
    "B, T, C = 4, 8, 32 # Batch, Time, Channels\n",
    "x = torch.randn(B, T, C)\n",
    "\n",
    "# Let's see single head perform self attention\n",
    "head_size = 16 # Hyperparameter\n",
    "key = nn.Linear(C, head_size, bias=False)\n",
    "query = nn.Linear(C, head_size, bias=False)\n",
    "value = nn.Linear(C, head_size, bias=False)\n",
    "k = key(x)   # (B, T, 16)\n",
    "q = query(x) # (B, T, 16)\n",
    "wei = q @ k.transpose(-2, -1) # (B, T, 16) @ (B, 16, T) => (B, T, T)\n",
    "                              # For every B, there is now a T squared \n",
    "                              # matrix representing affinities\n",
    "tril = torch.tril(torch.ones(T, T)) # wei = Weights\n",
    "wei = wei.masked_fill(tril == 0, float('-inf'))\n",
    "wei = F.softmax(wei, dim=-1)\n",
    "\n",
    "v = value(x)\n",
    "out = wei @ v # We aggregate v instead of raw x\n",
    "\n",
    "print(wei[0]) # Now data dependent"
   ]
  },
  {
   "cell_type": "markdown",
   "id": "c3075fc5-b266-47e3-88d1-1dd4fa1dbec6",
   "metadata": {},
   "source": [
    "- The 8th token knows it's own content and position\n",
    "- Based on that, it creates a query, for e.g: \n",
    "    - 'Hey I'm a vowel in the 8th position, I'm looking for any consonants up to 4'\n",
    "    - Then, all the nodes get to emit keys, for e.g: 'I'm a consonant in a position up to 4' \n",
    "    - It would have a high value in that channel\n",
    "- Since they have a high affinity after dot-product, softmax will aggregate a lot of its information into my position, so I will get to learn a lot about it\n",
    "\n",
    "**`v`**:\n",
    "- Is the vector that we aggregate instead of raw x\n",
    "- Think of x as the private information of this token\n",
    "- *5th token with some identity, information kept in vector x, and now for purposes of single head, here's what I'm interested in, here's what I have, and if you find me interesting, here's what I will communicate to you.* \n",
    "\n",
    "---\n",
    "\n",
    "> `Attention` can be thought of as a communication mechanism where you have a number of nodes in a directed graph, where edges point between nodes, and every node has some vector of information, and it gets to aggregate information via a weighted sum from all the nodes that point to it, in a data-dependent way.\n",
    "\n",
    "```\n",
    "> The first node is only pointed to by itself\n",
    "> The second node is pointed to the first node and itself\n",
    "> The nth node is pointed to be all previous nodes and itself\n",
    "\n",
    "In principle, attention can be applied to any arbitrary directed graph, it is simply a communication mechanism\n",
    "```\n",
    "\n",
    "> Also, there is no notion of space (which is why we need to give them information anchored to certain position in space, through positional encoding), unlike with convolution neural networks (which have convolutional filters that act in space)\n",
    "\n",
    "> Finally, the elements across the batch dimension are independent samples and never talk to each other, always being processed independently. \n",
    "\n",
    "> In the case of language models, we have this specific structure of directed graph where the future tokens will not communicate to past tokens (this gives away the answer). This doesn't have to be the constraint. E.g if doing sentiment analysis (predicting sentiment) it is okay for these nodes to talk to each other.) Encoder block: delete `wei = wei.masked_fill(tril == 0, float('inf'))`\n",
    "\n",
    "> `self-attention` because the keys, queries and values are all coming from the same source: x, so they are 'self attending'. But it can be more general; \n",
    "\n",
    "> `cross-attention` Encoder decoder transformers, you can have queries produced from X, but keys and values come from a different source, encoder blocks, nodes on the side."
   ]
  },
  {
   "cell_type": "code",
   "execution_count": 218,
   "id": "7de3ac93-4492-4718-85ac-def820aa5c5f",
   "metadata": {
    "tags": []
   },
   "outputs": [],
   "source": [
    "k = torch.randn(B, T, head_size)\n",
    "q = torch.randn(B, T, head_size)\n",
    "\n",
    "# Preserves variance of wei\n",
    "# This is important as wei is being fed into softmax, and if the numbers are too\n",
    "# extreme, softmax will sharpen towards the maximum number\n",
    "# In the context of GPT, aggregating information from a single node \n",
    "\n",
    "wei = q @ k.transpose(-2, -1) * head_size ** -0.5 "
   ]
  },
  {
   "cell_type": "markdown",
   "id": "5a0f98a2-99b1-4cd1-b89f-49df67807404",
   "metadata": {},
   "source": [
    "# Multi Headed Self Attetnion "
   ]
  },
  {
   "cell_type": "code",
   "execution_count": null,
   "id": "41349d2f-94e6-4259-9854-cf7fb338195a",
   "metadata": {},
   "outputs": [],
   "source": []
  },
  {
   "cell_type": "markdown",
   "id": "c1409a8b-42be-4930-8dcd-8ea2667c6362",
   "metadata": {},
   "source": [
    "Full implementation: "
   ]
  },
  {
   "cell_type": "code",
   "execution_count": null,
   "id": "4a5f50dc-d962-4506-a4e5-61b1f3b38563",
   "metadata": {},
   "outputs": [],
   "source": [
    "import torch\n",
    "import torch.nn as nn\n",
    "from torch.nn import functional as F\n",
    "\n",
    "# hyperparameters\n",
    "batch_size = 64 # how many independent sequences will we process in parallel?\n",
    "block_size = 256 # what is the maximum context length for predictions?\n",
    "max_iters = 5000\n",
    "eval_interval = 500\n",
    "learning_rate = 3e-4\n",
    "device = 'cuda' if torch.cuda.is_available() else 'cpu'\n",
    "eval_iters = 200\n",
    "n_embd = 384\n",
    "n_head = 6\n",
    "n_layer = 6\n",
    "dropout = 0.2\n",
    "# ------------\n",
    "\n",
    "torch.manual_seed(1337)\n",
    "\n",
    "# wget https://raw.githubusercontent.com/karpathy/char-rnn/master/data/tinyshakespeare/input.txt\n",
    "with open('all_thoughts.txt', 'r', encoding='utf-8') as f:\n",
    "    text = f.read()\n",
    "\n",
    "# here are all the unique characters that occur in this text\n",
    "chars = sorted(list(set(text)))\n",
    "vocab_size = len(chars)\n",
    "# create a mapping from characters to integers\n",
    "stoi = { ch:i for i,ch in enumerate(chars) }\n",
    "itos = { i:ch for i,ch in enumerate(chars) }\n",
    "encode = lambda s: [stoi[c] for c in s] # encoder: take a string, output a list of integers\n",
    "decode = lambda l: ''.join([itos[i] for i in l]) # decoder: take a list of integers, output a string\n",
    "\n",
    "# Train and test splits\n",
    "data = torch.tensor(encode(text), dtype=torch.long)\n",
    "n = int(0.9*len(data)) # first 90% will be train, rest val\n",
    "train_data = data[:n]\n",
    "val_data = data[n:]\n",
    "\n",
    "# data loading\n",
    "def get_batch(split):\n",
    "    # generate a small batch of data of inputs x and targets y\n",
    "    data = train_data if split == 'train' else val_data\n",
    "    ix = torch.randint(len(data) - block_size, (batch_size,))\n",
    "    x = torch.stack([data[i:i+block_size] for i in ix])\n",
    "    y = torch.stack([data[i+1:i+block_size+1] for i in ix])\n",
    "    x, y = x.to(device), y.to(device)\n",
    "    return x, y\n",
    "\n",
    "@torch.no_grad()\n",
    "def estimate_loss():\n",
    "    out = {}\n",
    "    model.eval()\n",
    "    for split in ['train', 'val']:\n",
    "        losses = torch.zeros(eval_iters)\n",
    "        for k in range(eval_iters):\n",
    "            X, Y = get_batch(split)\n",
    "            logits, loss = model(X, Y)\n",
    "            losses[k] = loss.item()\n",
    "        out[split] = losses.mean()\n",
    "    model.train()\n",
    "    return out\n",
    "\n",
    "class Head(nn.Module):\n",
    "    \"\"\" one head of self-attention \"\"\"\n",
    "\n",
    "    def __init__(self, head_size):\n",
    "        super().__init__()\n",
    "        self.key = nn.Linear(n_embd, head_size, bias=False)\n",
    "        self.query = nn.Linear(n_embd, head_size, bias=False)\n",
    "        self.value = nn.Linear(n_embd, head_size, bias=False)\n",
    "        self.register_buffer('tril', torch.tril(torch.ones(block_size, block_size)))\n",
    "\n",
    "        self.dropout = nn.Dropout(dropout)\n",
    "\n",
    "    def forward(self, x):\n",
    "        # input of size (batch, time-step, channels)\n",
    "        # output of size (batch, time-step, head size)\n",
    "        B,T,C = x.shape\n",
    "        k = self.key(x)   # (B,T,hs)\n",
    "        q = self.query(x) # (B,T,hs)\n",
    "        # compute attention scores (\"affinities\")\n",
    "        wei = q @ k.transpose(-2,-1) * k.shape[-1]**-0.5 # (B, T, hs) @ (B, hs, T) -> (B, T, T)\n",
    "        wei = wei.masked_fill(self.tril[:T, :T] == 0, float('-inf')) # (B, T, T)\n",
    "        wei = F.softmax(wei, dim=-1) # (B, T, T)\n",
    "        wei = self.dropout(wei)\n",
    "        # perform the weighted aggregation of the values\n",
    "        v = self.value(x) # (B,T,hs)\n",
    "        out = wei @ v # (B, T, T) @ (B, T, hs) -> (B, T, hs)\n",
    "        return out\n",
    "\n",
    "class MultiHeadAttention(nn.Module):\n",
    "    \"\"\" multiple heads of self-attention in parallel \"\"\"\n",
    "\n",
    "    def __init__(self, num_heads, head_size):\n",
    "        super().__init__()\n",
    "        self.heads = nn.ModuleList([Head(head_size) for _ in range(num_heads)])\n",
    "        self.proj = nn.Linear(head_size * num_heads, n_embd)\n",
    "        self.dropout = nn.Dropout(dropout)\n",
    "\n",
    "    def forward(self, x):\n",
    "        out = torch.cat([h(x) for h in self.heads], dim=-1)\n",
    "        out = self.dropout(self.proj(out))\n",
    "        return out\n",
    "\n",
    "class FeedFoward(nn.Module):\n",
    "    \"\"\" a simple linear layer followed by a non-linearity \"\"\"\n",
    "\n",
    "    def __init__(self, n_embd):\n",
    "        super().__init__()\n",
    "        self.net = nn.Sequential(\n",
    "            nn.Linear(n_embd, 4 * n_embd),\n",
    "            nn.ReLU(),\n",
    "            nn.Linear(4 * n_embd, n_embd),\n",
    "            nn.Dropout(dropout),\n",
    "        )\n",
    "\n",
    "    def forward(self, x):\n",
    "        return self.net(x)\n",
    "\n",
    "class Block(nn.Module):\n",
    "    \"\"\" Transformer block: communication followed by computation \"\"\"\n",
    "\n",
    "    def __init__(self, n_embd, n_head):\n",
    "        # n_embd: embedding dimension, n_head: the number of heads we'd like\n",
    "        super().__init__()\n",
    "        head_size = n_embd // n_head\n",
    "        self.sa = MultiHeadAttention(n_head, head_size)\n",
    "        self.ffwd = FeedFoward(n_embd)\n",
    "        self.ln1 = nn.LayerNorm(n_embd)\n",
    "        self.ln2 = nn.LayerNorm(n_embd)\n",
    "\n",
    "    def forward(self, x):\n",
    "        x = x + self.sa(self.ln1(x))\n",
    "        x = x + self.ffwd(self.ln2(x))\n",
    "        return x\n",
    "\n",
    "class GPTLanguageModel(nn.Module):\n",
    "\n",
    "    def __init__(self):\n",
    "        super().__init__()\n",
    "        # each token directly reads off the logits for the next token from a lookup table\n",
    "        self.token_embedding_table = nn.Embedding(vocab_size, n_embd)\n",
    "        self.position_embedding_table = nn.Embedding(block_size, n_embd)\n",
    "        self.blocks = nn.Sequential(*[Block(n_embd, n_head=n_head) for _ in range(n_layer)])\n",
    "        self.ln_f = nn.LayerNorm(n_embd) # final layer norm\n",
    "        self.lm_head = nn.Linear(n_embd, vocab_size)\n",
    "\n",
    "        # better init, not covered in the original GPT video, but important, will cover in followup video\n",
    "        self.apply(self._init_weights)\n",
    "\n",
    "    def _init_weights(self, module):\n",
    "        if isinstance(module, nn.Linear):\n",
    "            torch.nn.init.normal_(module.weight, mean=0.0, std=0.02)\n",
    "            if module.bias is not None:\n",
    "                torch.nn.init.zeros_(module.bias)\n",
    "        elif isinstance(module, nn.Embedding):\n",
    "            torch.nn.init.normal_(module.weight, mean=0.0, std=0.02)\n",
    "\n",
    "    def forward(self, idx, targets=None):\n",
    "        B, T = idx.shape\n",
    "\n",
    "        # idx and targets are both (B,T) tensor of integers\n",
    "        tok_emb = self.token_embedding_table(idx) # (B,T,C)\n",
    "        pos_emb = self.position_embedding_table(torch.arange(T, device=device)) # (T,C)\n",
    "        x = tok_emb + pos_emb # (B,T,C)\n",
    "        x = self.blocks(x) # (B,T,C)\n",
    "        x = self.ln_f(x) # (B,T,C)\n",
    "        logits = self.lm_head(x) # (B,T,vocab_size)\n",
    "\n",
    "        if targets is None:\n",
    "            loss = None\n",
    "        else:\n",
    "            B, T, C = logits.shape\n",
    "            logits = logits.view(B*T, C)\n",
    "            targets = targets.view(B*T)\n",
    "            loss = F.cross_entropy(logits, targets)\n",
    "\n",
    "        return logits, loss\n",
    "\n",
    "    def generate(self, idx, max_new_tokens):\n",
    "        # idx is (B, T) array of indices in the current context\n",
    "        for _ in range(max_new_tokens):\n",
    "            # crop idx to the last block_size tokens\n",
    "            idx_cond = idx[:, -block_size:]\n",
    "            # get the predictions\n",
    "            logits, loss = self(idx_cond)\n",
    "            # focus only on the last time step\n",
    "            logits = logits[:, -1, :] # becomes (B, C)\n",
    "            # apply softmax to get probabilities\n",
    "            probs = F.softmax(logits, dim=-1) # (B, C)\n",
    "            # sample from the distribution\n",
    "            idx_next = torch.multinomial(probs, num_samples=1) # (B, 1)\n",
    "            # append sampled index to the running sequence\n",
    "            idx = torch.cat((idx, idx_next), dim=1) # (B, T+1)\n",
    "        return idx\n",
    "\n",
    "model = GPTLanguageModel()\n",
    "m = model.to(device)\n",
    "# print the number of parameters in the model\n",
    "print(sum(p.numel() for p in m.parameters())/1e6, 'M parameters')\n",
    "\n",
    "# create a PyTorch optimizer\n",
    "optimizer = torch.optim.AdamW(model.parameters(), lr=learning_rate)\n",
    "\n",
    "for iter in range(max_iters):\n",
    "\n",
    "    # every once in a while evaluate the loss on train and val sets\n",
    "    if iter % eval_interval == 0 or iter == max_iters - 1:\n",
    "        losses = estimate_loss()\n",
    "        print(f\"step {iter}: train loss {losses['train']:.4f}, val loss {losses['val']:.4f}\")\n",
    "\n",
    "    # sample a batch of data\n",
    "    xb, yb = get_batch('train')\n",
    "\n",
    "    # evaluate the loss\n",
    "    logits, loss = model(xb, yb)\n",
    "    optimizer.zero_grad(set_to_none=True)\n",
    "    loss.backward()\n",
    "    optimizer.step()\n",
    "\n",
    "# generate from the model\n",
    "context = torch.zeros((1, 1), dtype=torch.long, device=device)\n",
    "print(decode(m.generate(context, max_new_tokens=500)[0].tolist()))\n",
    "#open('more.txt', 'w').write(decode(m.generate(context, max_new_tokens=10000)[0].tolist()))\n"
   ]
  },
  {
   "cell_type": "markdown",
   "id": "da8e6b38",
   "metadata": {},
   "source": [
    "# Training\n",
    "\n",
    "![Training](training.png)"
   ]
  },
  {
   "cell_type": "markdown",
   "id": "da851689",
   "metadata": {},
   "source": [
    "# Finally, some output!\n",
    "*After delegating some overnight training of the LLM to my tinny old Windows laptop, this is a glimpse what we were able to generate...*\n",
    "\n",
    "```text\n",
    "She holds me every on mt dinner word to something I f*ck right a milk I must want to no feel about this stuff like ur whole quickly detail adorable in bedroom with why Just deserve that did then. you Feel someone like those fring from whole excited to be the tell her personality about her friends it gets so deeplying into the reminder. Be hot. Actually get drying to Tao and I could drive the places with her. Aight the whole Integrity. Get To Her. \n",
    "Icle max. \n",
    "Her body. What was the explainates rough. \n",
    "She had a difference record of her mhm\n",
    "‘Forgive.’ 🙏🙏🙏❤️\n",
    "The'res omg we’d reply don’t even insecurity and my form tho. Mental… now charge, andddd Mew harder. unspitateful. The most registical girl. She’s picking in.. Budget. The couple stuff. And they helped my copperment and so bsugging ur v not to warm like the schedule customach englishmic dinner with EYES too.\n",
    "- \n",
    "- Moli is the prank you invitewt ugh?!‘She perfect meanly the RB people seriously thing.’ ‘Rip my friend all the music crack on the'\n",
    "```\n",
    "\n",
    "# Conclusion\n",
    "- Not exactly ground breaking stuff, but quite uncanny... remember. \n",
    "- This is not like ChatGPT, this model was born and raised entirely within the universe of my diary, it knows nothing else about English language, nothing else about the world. \n",
    "- Also very interesting to see how coherency improved with longer training times... \n",
    "- The fact that this overly complicated math equation is able to form coherent sentences and use emojis the same way I do... \n",
    "- Real insights into how we, as humans, learn - both concepts and language... are they one and the same? "
   ]
  }
 ],
 "metadata": {
  "kernelspec": {
   "display_name": "Python 3 (ipykernel)",
   "language": "python",
   "name": "python3"
  },
  "language_info": {
   "codemirror_mode": {
    "name": "ipython",
    "version": 3
   },
   "file_extension": ".py",
   "mimetype": "text/x-python",
   "name": "python",
   "nbconvert_exporter": "python",
   "pygments_lexer": "ipython3",
   "version": "3.10.10"
  }
 },
 "nbformat": 4,
 "nbformat_minor": 5
}
